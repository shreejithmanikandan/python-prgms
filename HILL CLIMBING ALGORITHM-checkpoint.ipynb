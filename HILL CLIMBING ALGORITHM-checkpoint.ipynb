{
 "cells": [
  {
   "cell_type": "markdown",
   "id": "daba86df",
   "metadata": {},
   "source": [
    "finding the best possible shortest route among these cities to travel\n",
    "\n",
    "che-ban= 347\n",
    "\n",
    "che-Del=2196\n",
    "\n",
    "che-kol=1667\n",
    "\n",
    "ban-Del=2164\n",
    "\n",
    "ban-kol=1875\n",
    "\n",
    "Del-kol=1559\n",
    "\n",
    "All values kms"
   ]
  },
  {
   "cell_type": "code",
   "execution_count": 1,
   "id": "8d4dbc35",
   "metadata": {},
   "outputs": [],
   "source": [
    "import random\n"
   ]
  },
  {
   "cell_type": "code",
   "execution_count": 2,
   "id": "7f7342be",
   "metadata": {},
   "outputs": [],
   "source": [
    "tsp=[[0,347,2196,1667],\n",
    "    [347,0,2146,1875],\n",
    "    [2196,2164,0,1559],\n",
    "    [1667,1875,1559,0]]"
   ]
  },
  {
   "cell_type": "code",
   "execution_count": 3,
   "id": "23f7a56e",
   "metadata": {},
   "outputs": [],
   "source": [
    "def randomSolution (tsp):\n",
    "    cities= list(range(len(tsp)))\n",
    "    solution=[]\n",
    "    \n",
    "    for i in range(len(tsp)):\n",
    "        randomCity= cities[random.randint(0,len(cities)-1)]\n",
    "        solution.append(randomCity)\n",
    "        cities.remove(randomCity)\n",
    "        \n",
    "    return solution"
   ]
  },
  {
   "cell_type": "code",
   "execution_count": 4,
   "id": "05c0b200",
   "metadata": {},
   "outputs": [],
   "source": [
    "def routeLength(tsp, solution):\n",
    "    routeLength=0\n",
    "    \n",
    "    for i in range(len(solution)):\n",
    "        routeLength += tsp[solution[i-1]][solution[i]]\n",
    "    \n",
    "    return routeLength"
   ]
  },
  {
   "cell_type": "code",
   "execution_count": 5,
   "id": "d2bc4c69",
   "metadata": {},
   "outputs": [],
   "source": [
    "def getneighbours(solution):\n",
    "    neighbours=[]\n",
    "    \n",
    "    for i in range(len(solution)):\n",
    "        for j in range(i+1, len(solution)):\n",
    "            neighbour= solution.copy()\n",
    "            neighbour[i]= solution[j]\n",
    "            neighbour[j]= solution[i]\n",
    "            neighbours.append(neighbour)\n",
    "            \n",
    "    return neighbours"
   ]
  },
  {
   "cell_type": "code",
   "execution_count": 6,
   "id": "ac95cd1a",
   "metadata": {},
   "outputs": [],
   "source": [
    "def getBestneighbour(tsp, neighbours):\n",
    "    bestRouteLength= routeLength(tsp, neighbours[0])\n",
    "    bestNeighbours=neighbours[0]\n",
    "    \n",
    "    for neighbour in neighbours:\n",
    "        currentRouteLength= routeLength(tsp, neighbour)\n",
    "        if currentRouteLength < bestRouteLength :\n",
    "            bestRouteLength=currentRouteLength\n",
    "            bestNeighbour=neighbour\n",
    "    \n",
    "    return  bestNeighbour, bestRouteLength\n",
    "            "
   ]
  },
  {
   "cell_type": "code",
   "execution_count": 7,
   "id": "2dc62339",
   "metadata": {},
   "outputs": [],
   "source": [
    "def hillClimbing(tsp):\n",
    "    currentSolution= randomSolution(tsp)\n",
    "    currentRouteLength=routeLength(tsp,currentSolution)\n",
    "    neighbours= getneighbours(currentSolution)\n",
    "    bestNeighbour,bestNeighbourRouteLength = getBestneighbour(tsp, neighbours)\n",
    "    \n",
    "    while bestNeighbourRouteLength < currentRouteLength:\n",
    "        currentSolution = bestNeighbour\n",
    "        currentRouteLength = bestNeighbourRouteLength\n",
    "        neighbours= getneighbours(currentSolution)\n",
    "        bestNeighbour,bestNeighbourRouteLength = getBestneighbour(tsp, neighbours)\n",
    "        \n",
    "    return currentSolution, currentRouteLength"
   ]
  },
  {
   "cell_type": "code",
   "execution_count": 8,
   "id": "d65f0176",
   "metadata": {},
   "outputs": [
    {
     "name": "stdout",
     "output_type": "stream",
     "text": [
      "([1, 2, 3, 0], 5719)\n"
     ]
    }
   ],
   "source": [
    "print(hillClimbing(tsp))"
   ]
  },
  {
   "cell_type": "code",
   "execution_count": null,
   "id": "911af3d9",
   "metadata": {},
   "outputs": [],
   "source": []
  }
 ],
 "metadata": {
  "kernelspec": {
   "display_name": "Python 3 (ipykernel)",
   "language": "python",
   "name": "python3"
  },
  "language_info": {
   "codemirror_mode": {
    "name": "ipython",
    "version": 3
   },
   "file_extension": ".py",
   "mimetype": "text/x-python",
   "name": "python",
   "nbconvert_exporter": "python",
   "pygments_lexer": "ipython3",
   "version": "3.9.13"
  }
 },
 "nbformat": 4,
 "nbformat_minor": 5
}
