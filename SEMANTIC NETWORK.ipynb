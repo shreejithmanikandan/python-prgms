{
 "cells": [
  {
   "cell_type": "markdown",
   "id": "c93f6cdf",
   "metadata": {},
   "source": [
    "# mark live in california plays soccer in for club named spinoff.  he is new to california & he loves pets, he bought cat. mark is student at califonia state university(csu)\n"
   ]
  },
  {
   "cell_type": "code",
   "execution_count": 1,
   "id": "02834352",
   "metadata": {},
   "outputs": [],
   "source": [
    "import networkx as nx\n"
   ]
  },
  {
   "cell_type": "code",
   "execution_count": 2,
   "id": "cb6288df",
   "metadata": {},
   "outputs": [],
   "source": [
    "import matplotlib.pyplot as plt"
   ]
  },
  {
   "cell_type": "code",
   "execution_count": 3,
   "id": "c0d976be",
   "metadata": {},
   "outputs": [],
   "source": [
    "graph_Mark= nx.DiGraph(Info = \"mark's Details\")  #directed graph"
   ]
  },
  {
   "cell_type": "code",
   "execution_count": 4,
   "id": "05623fdf",
   "metadata": {},
   "outputs": [],
   "source": [
    "graph_Mark.add_node(\"Mark\",pos=(1,0))\n",
    "graph_Mark.add_node(\"cat\",pos=(1,5))\n",
    "graph_Mark.add_node(\"student\",pos=(1,10))\n",
    "graph_Mark.add_node(\"animal\",pos=(1,-5))\n",
    "graph_Mark.add_node(\"california\",pos=(1,-10))\n",
    "graph_Mark.add_node(\"spinoff\",pos=(1,15))\n",
    "graph_Mark.add_node(\"soccer\",pos=(-1,1))\n",
    "graph_Mark.add_node(\"sports club\",pos=(-1,5))\n",
    "graph_Mark.add_node(\"CSU\",pos=(-1,-15))\n",
    "pos=nx.get_node_attributes(graph_Mark,\"pos\")"
   ]
  },
  {
   "cell_type": "code",
   "execution_count": 5,
   "id": "0e069b81",
   "metadata": {},
   "outputs": [
    {
     "ename": "AttributeError",
     "evalue": "'DiGraph' object has no attribute 'add_egde'",
     "output_type": "error",
     "traceback": [
      "\u001b[1;31m---------------------------------------------------------------------------\u001b[0m",
      "\u001b[1;31mAttributeError\u001b[0m                            Traceback (most recent call last)",
      "\u001b[1;32m~\\AppData\\Local\\Temp\\ipykernel_15224\\1737371724.py\u001b[0m in \u001b[0;36m<module>\u001b[1;34m\u001b[0m\n\u001b[1;32m----> 1\u001b[1;33m \u001b[0mgraph_Mark\u001b[0m\u001b[1;33m.\u001b[0m\u001b[0madd_egde\u001b[0m\u001b[1;33m(\u001b[0m\u001b[1;34m\"Mark\"\u001b[0m\u001b[1;33m,\u001b[0m\u001b[1;34m\"cat\"\u001b[0m\u001b[1;33m,\u001b[0m\u001b[0mweight\u001b[0m\u001b[1;33m=\u001b[0m\u001b[1;34m\"has a\"\u001b[0m\u001b[1;33m)\u001b[0m\u001b[1;33m\u001b[0m\u001b[1;33m\u001b[0m\u001b[0m\n\u001b[0m\u001b[0;32m      2\u001b[0m \u001b[0mgraph_Mark\u001b[0m\u001b[1;33m.\u001b[0m\u001b[0madd_egde\u001b[0m\u001b[1;33m(\u001b[0m\u001b[1;34m\"Mark\"\u001b[0m\u001b[1;33m,\u001b[0m\u001b[1;34m\"student\"\u001b[0m\u001b[1;33m,\u001b[0m\u001b[0mweight\u001b[0m\u001b[1;33m=\u001b[0m\u001b[1;34m\"is a\"\u001b[0m\u001b[1;33m)\u001b[0m\u001b[1;33m\u001b[0m\u001b[1;33m\u001b[0m\u001b[0m\n\u001b[0;32m      3\u001b[0m \u001b[0mgraph_Mark\u001b[0m\u001b[1;33m.\u001b[0m\u001b[0madd_egde\u001b[0m\u001b[1;33m(\u001b[0m\u001b[1;34m\"cat\"\u001b[0m\u001b[1;33m,\u001b[0m\u001b[1;34m\"animal\"\u001b[0m\u001b[1;33m,\u001b[0m\u001b[0mweight\u001b[0m\u001b[1;33m=\u001b[0m\u001b[1;34m\"is a\"\u001b[0m\u001b[1;33m)\u001b[0m\u001b[1;33m\u001b[0m\u001b[1;33m\u001b[0m\u001b[0m\n\u001b[0;32m      4\u001b[0m \u001b[0mgraph_Mark\u001b[0m\u001b[1;33m.\u001b[0m\u001b[0madd_egde\u001b[0m\u001b[1;33m(\u001b[0m\u001b[1;34m\"Mark\"\u001b[0m\u001b[1;33m,\u001b[0m\u001b[1;34m\"soccer\"\u001b[0m\u001b[1;33m,\u001b[0m\u001b[0mweight\u001b[0m\u001b[1;33m=\u001b[0m\u001b[1;34m\"plays\"\u001b[0m\u001b[1;33m)\u001b[0m\u001b[1;33m\u001b[0m\u001b[1;33m\u001b[0m\u001b[0m\n\u001b[0;32m      5\u001b[0m \u001b[0mgraph_Mark\u001b[0m\u001b[1;33m.\u001b[0m\u001b[0madd_egde\u001b[0m\u001b[1;33m(\u001b[0m\u001b[1;34m\"Mark\"\u001b[0m\u001b[1;33m,\u001b[0m\u001b[1;34m\"spinoff\"\u001b[0m\u001b[1;33m,\u001b[0m\u001b[0mweight\u001b[0m\u001b[1;33m=\u001b[0m\u001b[1;34m\"is a part of\"\u001b[0m\u001b[1;33m)\u001b[0m\u001b[1;33m\u001b[0m\u001b[1;33m\u001b[0m\u001b[0m\n",
      "\u001b[1;31mAttributeError\u001b[0m: 'DiGraph' object has no attribute 'add_egde'"
     ]
    }
   ],
   "source": [
    "graph_Mark.add_egde(\"Mark\",\"cat\",weight=\"has a\")\n",
    "graph_Mark.add_egde(\"Mark\",\"student\",weight=\"is a\")\n",
    "graph_Mark.add_egde(\"cat\",\"animal\",weight=\"is a\")\n",
    "graph_Mark.add_egde(\"Mark\",\"soccer\",weight=\"plays\")\n",
    "graph_Mark.add_egde(\"Mark\",\"spinoff\",weight=\"is a part of\")\n",
    "graph_Mark.add_egde(\"Mark\",\"california\",weight=\"lives in\")\n",
    "graph_Mark.add_egde(\"Mark\",\"animal\",weight=\"loves\")\n",
    "graph_Mark.add_egde(\"student\",\"CSU\",weight=\"in\")\n",
    "graph_Mark.add_egde(\"spinoff\",\"sports club\",weight=\"is a\")\n",
    "graph_Mark.add_egde(\"CSU\",\"california\",weight=\"is in\")\n",
    "weight=nx.get_edge_attributes(graph_Mark,\"weight\")"
   ]
  },
  {
   "cell_type": "code",
   "execution_count": 6,
   "id": "3ed60415",
   "metadata": {},
   "outputs": [
    {
     "ename": "NameError",
     "evalue": "name 'weight' is not defined",
     "output_type": "error",
     "traceback": [
      "\u001b[1;31m---------------------------------------------------------------------------\u001b[0m",
      "\u001b[1;31mNameError\u001b[0m                                 Traceback (most recent call last)",
      "\u001b[1;32m~\\AppData\\Local\\Temp\\ipykernel_15224\\1590910122.py\u001b[0m in \u001b[0;36m<module>\u001b[1;34m\u001b[0m\n\u001b[0;32m      1\u001b[0m \u001b[0mplt\u001b[0m\u001b[1;33m.\u001b[0m\u001b[0mfigure\u001b[0m\u001b[1;33m(\u001b[0m\u001b[1;33m)\u001b[0m\u001b[1;33m\u001b[0m\u001b[1;33m\u001b[0m\u001b[0m\n\u001b[0;32m      2\u001b[0m \u001b[0mnx\u001b[0m\u001b[1;33m.\u001b[0m\u001b[0mdraw_networkx\u001b[0m\u001b[1;33m(\u001b[0m\u001b[0mgraph_Mark\u001b[0m\u001b[1;33m,\u001b[0m\u001b[0mpos\u001b[0m\u001b[1;33m,\u001b[0m\u001b[0mfont_weight\u001b[0m\u001b[1;33m=\u001b[0m\u001b[1;34m'bold'\u001b[0m\u001b[1;33m,\u001b[0m\u001b[0mnode_size\u001b[0m\u001b[1;33m=\u001b[0m\u001b[1;36m2000\u001b[0m\u001b[1;33m,\u001b[0m \u001b[0mfont_size\u001b[0m\u001b[1;33m=\u001b[0m\u001b[1;36m8\u001b[0m\u001b[1;33m)\u001b[0m\u001b[1;33m\u001b[0m\u001b[1;33m\u001b[0m\u001b[0m\n\u001b[1;32m----> 3\u001b[1;33m \u001b[0mnx\u001b[0m\u001b[1;33m.\u001b[0m\u001b[0mdraw_networkx_edge_labels\u001b[0m\u001b[1;33m(\u001b[0m\u001b[0mgraph_Mark\u001b[0m\u001b[1;33m,\u001b[0m\u001b[0mpos\u001b[0m\u001b[1;33m,\u001b[0m\u001b[0medge_labels\u001b[0m\u001b[1;33m=\u001b[0m\u001b[0mweight\u001b[0m\u001b[1;33m)\u001b[0m\u001b[1;33m\u001b[0m\u001b[1;33m\u001b[0m\u001b[0m\n\u001b[0m",
      "\u001b[1;31mNameError\u001b[0m: name 'weight' is not defined"
     ]
    },
    {
     "data": {
      "image/png": "[encoded data removed]",
      "text/plain": [
       "<Figure size 640x480 with 1 Axes>"
      ]
     },
     "metadata": {},
     "output_type": "display_data"
    }
   ],
   "source": [
    "plt.figure()\n",
    "nx.draw_networkx(graph_Mark,pos,font_weight='bold',node_size=2000, font_size=8)\n",
    "nx.draw_networkx_edge_labels(graph_Mark,pos,edge_labels=weight)"
   ]
  },
  {
   "cell_type": "code",
   "execution_count": null,
   "id": "3ce98e08",
   "metadata": {},
   "outputs": [],
   "source": []
  },
  {
   "cell_type": "code",
   "execution_count": null,
   "id": "4f53de1e",
   "metadata": {},
   "outputs": [],
   "source": []
  }
 ],
 "metadata": {
  "kernelspec": {
   "display_name": "Python 3 (ipykernel)",
   "language": "python",
   "name": "python3"
  },
  "language_info": {
   "codemirror_mode": {
    "name": "ipython",
    "version": 3
   },
   "file_extension": ".py",
   "mimetype": "text/x-python",
   "name": "python",
   "nbconvert_exporter": "python",
   "pygments_lexer": "ipython3",
   "version": "3.9.13"
  }
 },
 "nbformat": 4,
 "nbformat_minor": 5
}
