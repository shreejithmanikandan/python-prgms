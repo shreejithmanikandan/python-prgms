{
 "cells": [
  {
   "cell_type": "markdown",
   "id": "bff9fb54",
   "metadata": {},
   "source": [
    "# python crash course"
   ]
  },
  {
   "cell_type": "code",
   "execution_count": 1,
   "id": "9a0dcd86",
   "metadata": {},
   "outputs": [
    {
     "name": "stdout",
     "output_type": "stream",
     "text": [
      "100\n"
     ]
    }
   ],
   "source": [
    "#variable declaration\n",
    "var = 100\n",
    "print(var)"
   ]
  },
  {
   "cell_type": "code",
   "execution_count": 2,
   "id": "f4e00c5d",
   "metadata": {},
   "outputs": [
    {
     "data": {
      "text/plain": [
       "int"
      ]
     },
     "execution_count": 2,
     "metadata": {},
     "output_type": "execute_result"
    }
   ],
   "source": [
    "type(var)"
   ]
  },
  {
   "cell_type": "code",
   "execution_count": 3,
   "id": "dd36da71",
   "metadata": {},
   "outputs": [
    {
     "name": "stdout",
     "output_type": "stream",
     "text": [
      "Pavan Shreejith\n"
     ]
    }
   ],
   "source": [
    "#character declaration\n",
    "name= 'Pavan Shreejith'\n",
    "print(name)"
   ]
  },
  {
   "cell_type": "code",
   "execution_count": 4,
   "id": "23927321",
   "metadata": {},
   "outputs": [
    {
     "data": {
      "text/plain": [
       "str"
      ]
     },
     "execution_count": 4,
     "metadata": {},
     "output_type": "execute_result"
    }
   ],
   "source": [
    "type(name)"
   ]
  },
  {
   "cell_type": "code",
   "execution_count": 5,
   "id": "35db1ca1",
   "metadata": {},
   "outputs": [
    {
     "name": "stdout",
     "output_type": "stream",
     "text": [
      "1\n",
      "1.2\n",
      "(1+3j)\n"
     ]
    }
   ],
   "source": [
    "#numeric datatype declaration\n",
    "a=1\n",
    "print(a)\n",
    "b=1.2\n",
    "print(b)\n",
    "c=1+3j\n",
    "print(c)"
   ]
  },
  {
   "cell_type": "code",
   "execution_count": 6,
   "id": "1f38591f",
   "metadata": {},
   "outputs": [
    {
     "data": {
      "text/plain": [
       "int"
      ]
     },
     "execution_count": 6,
     "metadata": {},
     "output_type": "execute_result"
    }
   ],
   "source": [
    "type(a)\n"
   ]
  },
  {
   "cell_type": "code",
   "execution_count": 7,
   "id": "7c1877f8",
   "metadata": {},
   "outputs": [
    {
     "data": {
      "text/plain": [
       "float"
      ]
     },
     "execution_count": 7,
     "metadata": {},
     "output_type": "execute_result"
    }
   ],
   "source": [
    "type(b)"
   ]
  },
  {
   "cell_type": "code",
   "execution_count": 8,
   "id": "970a7407",
   "metadata": {},
   "outputs": [
    {
     "data": {
      "text/plain": [
       "complex"
      ]
     },
     "execution_count": 8,
     "metadata": {},
     "output_type": "execute_result"
    }
   ],
   "source": [
    "type(c)"
   ]
  },
  {
   "cell_type": "markdown",
   "id": "d8f7202c",
   "metadata": {},
   "source": [
    "# list ,tuple, set, dictionary declaration"
   ]
  },
  {
   "cell_type": "code",
   "execution_count": 9,
   "id": "008fa13d",
   "metadata": {},
   "outputs": [],
   "source": [
    "\n",
    "A=[1,2,2.3,1+3j,'pvn']\n",
    "B=(3,4,5.6,3+6j,'shrx')\n",
    "C={'jinx','haris','it','pennywise'}\n",
    "D={'name':'pavan','std':'XII','reg.no':'122012173022'}"
   ]
  },
  {
   "cell_type": "code",
   "execution_count": 10,
   "id": "59177dca",
   "metadata": {},
   "outputs": [
    {
     "data": {
      "text/plain": [
       "list"
      ]
     },
     "execution_count": 10,
     "metadata": {},
     "output_type": "execute_result"
    }
   ],
   "source": [
    "type(A)"
   ]
  },
  {
   "cell_type": "code",
   "execution_count": 11,
   "id": "8bf9a874",
   "metadata": {},
   "outputs": [
    {
     "data": {
      "text/plain": [
       "tuple"
      ]
     },
     "execution_count": 11,
     "metadata": {},
     "output_type": "execute_result"
    }
   ],
   "source": [
    "type(B)"
   ]
  },
  {
   "cell_type": "code",
   "execution_count": 12,
   "id": "bb265b3f",
   "metadata": {},
   "outputs": [
    {
     "data": {
      "text/plain": [
       "set"
      ]
     },
     "execution_count": 12,
     "metadata": {},
     "output_type": "execute_result"
    }
   ],
   "source": [
    "type(C)"
   ]
  },
  {
   "cell_type": "code",
   "execution_count": 13,
   "id": "d99ea5c2",
   "metadata": {},
   "outputs": [
    {
     "data": {
      "text/plain": [
       "dict"
      ]
     },
     "execution_count": 13,
     "metadata": {},
     "output_type": "execute_result"
    }
   ],
   "source": [
    "type(D)"
   ]
  },
  {
   "cell_type": "markdown",
   "id": "b4034435",
   "metadata": {},
   "source": [
    "# list operations"
   ]
  },
  {
   "cell_type": "code",
   "execution_count": 14,
   "id": "df7a1374",
   "metadata": {},
   "outputs": [],
   "source": [
    "colors=['red','black','gold','silver','maroon']"
   ]
  },
  {
   "cell_type": "code",
   "execution_count": 15,
   "id": "97802ceb",
   "metadata": {},
   "outputs": [
    {
     "data": {
      "text/plain": [
       "list"
      ]
     },
     "execution_count": 15,
     "metadata": {},
     "output_type": "execute_result"
    }
   ],
   "source": [
    "type(colors)"
   ]
  },
  {
   "cell_type": "code",
   "execution_count": 16,
   "id": "92600b64",
   "metadata": {},
   "outputs": [
    {
     "ename": "AttributeError",
     "evalue": "'tuple' object has no attribute 'append'",
     "output_type": "error",
     "traceback": [
      "\u001b[1;31m---------------------------------------------------------------------------\u001b[0m",
      "\u001b[1;31mAttributeError\u001b[0m                            Traceback (most recent call last)",
      "\u001b[1;32m~\\AppData\\Local\\Temp\\ipykernel_8156\\2145530183.py\u001b[0m in \u001b[0;36m<module>\u001b[1;34m\u001b[0m\n\u001b[1;32m----> 1\u001b[1;33m \u001b[0mB\u001b[0m\u001b[1;33m.\u001b[0m\u001b[0mappend\u001b[0m\u001b[1;33m(\u001b[0m\u001b[1;34m'jith'\u001b[0m\u001b[1;33m)\u001b[0m\u001b[1;33m\u001b[0m\u001b[1;33m\u001b[0m\u001b[0m\n\u001b[0m",
      "\u001b[1;31mAttributeError\u001b[0m: 'tuple' object has no attribute 'append'"
     ]
    }
   ],
   "source": [
    "B.append('jith')"
   ]
  },
  {
   "cell_type": "code",
   "execution_count": null,
   "id": "a4ce4465",
   "metadata": {},
   "outputs": [],
   "source": [
    "A.append('gulp')"
   ]
  },
  {
   "cell_type": "code",
   "execution_count": null,
   "id": "dd87c99c",
   "metadata": {},
   "outputs": [],
   "source": [
    "print(A)"
   ]
  },
  {
   "cell_type": "code",
   "execution_count": null,
   "id": "93ba0352",
   "metadata": {},
   "outputs": [],
   "source": [
    "A.extend(\"12\")"
   ]
  },
  {
   "cell_type": "code",
   "execution_count": 17,
   "id": "ae3f5d09",
   "metadata": {},
   "outputs": [
    {
     "data": {
      "text/plain": [
       "[1, 2, 2.3, (1+3j), 'pvn']"
      ]
     },
     "execution_count": 17,
     "metadata": {},
     "output_type": "execute_result"
    }
   ],
   "source": [
    "A"
   ]
  },
  {
   "cell_type": "code",
   "execution_count": 18,
   "id": "abf7a3d4",
   "metadata": {},
   "outputs": [],
   "source": [
    "colors.remove('red')"
   ]
  },
  {
   "cell_type": "code",
   "execution_count": 19,
   "id": "ff5e6408",
   "metadata": {},
   "outputs": [
    {
     "data": {
      "text/plain": [
       "['black', 'gold', 'silver', 'maroon']"
      ]
     },
     "execution_count": 19,
     "metadata": {},
     "output_type": "execute_result"
    }
   ],
   "source": [
    "colors"
   ]
  },
  {
   "cell_type": "markdown",
   "id": "7307de87",
   "metadata": {},
   "source": [
    "# set operations"
   ]
  },
  {
   "cell_type": "code",
   "execution_count": 20,
   "id": "f4aa58cc",
   "metadata": {},
   "outputs": [
    {
     "data": {
      "text/plain": [
       "{'haris', 'it', 'jinx', 'pennywise'}"
      ]
     },
     "execution_count": 20,
     "metadata": {},
     "output_type": "execute_result"
    }
   ],
   "source": [
    "C"
   ]
  },
  {
   "cell_type": "code",
   "execution_count": 21,
   "id": "b5dc0cbd",
   "metadata": {},
   "outputs": [],
   "source": [
    "C.add('A')"
   ]
  },
  {
   "cell_type": "code",
   "execution_count": 22,
   "id": "4f38b6f3",
   "metadata": {},
   "outputs": [
    {
     "data": {
      "text/plain": [
       "{'A', 'haris', 'it', 'jinx', 'pennywise'}"
      ]
     },
     "execution_count": 22,
     "metadata": {},
     "output_type": "execute_result"
    }
   ],
   "source": [
    "C"
   ]
  },
  {
   "cell_type": "code",
   "execution_count": 23,
   "id": "7c1bfdfe",
   "metadata": {},
   "outputs": [],
   "source": [
    "C.update('kill')"
   ]
  },
  {
   "cell_type": "code",
   "execution_count": 24,
   "id": "c8c4eeb6",
   "metadata": {},
   "outputs": [
    {
     "name": "stdout",
     "output_type": "stream",
     "text": [
      "{'l', 'it', 'jinx', 'haris', 'pennywise', 'k', 'A', 'i'}\n"
     ]
    }
   ],
   "source": [
    "print(C)"
   ]
  },
  {
   "cell_type": "code",
   "execution_count": 25,
   "id": "ea913f6d",
   "metadata": {},
   "outputs": [],
   "source": [
    "f={1,2,2,3,5,856,'kill','supper'}"
   ]
  },
  {
   "cell_type": "code",
   "execution_count": 26,
   "id": "e1f0a323",
   "metadata": {},
   "outputs": [
    {
     "data": {
      "text/plain": [
       "{1, 2, 3, 5, 856, 'kill', 'supper'}"
      ]
     },
     "execution_count": 26,
     "metadata": {},
     "output_type": "execute_result"
    }
   ],
   "source": [
    "f"
   ]
  },
  {
   "cell_type": "code",
   "execution_count": 27,
   "id": "fc336696",
   "metadata": {},
   "outputs": [
    {
     "ename": "TypeError",
     "evalue": "'set' object is not subscriptable",
     "output_type": "error",
     "traceback": [
      "\u001b[1;31m---------------------------------------------------------------------------\u001b[0m",
      "\u001b[1;31mTypeError\u001b[0m                                 Traceback (most recent call last)",
      "\u001b[1;32m~\\AppData\\Local\\Temp\\ipykernel_8156\\1930685560.py\u001b[0m in \u001b[0;36m<module>\u001b[1;34m\u001b[0m\n\u001b[1;32m----> 1\u001b[1;33m \u001b[0mC\u001b[0m\u001b[1;33m[\u001b[0m\u001b[1;33m:\u001b[0m\u001b[1;36m3\u001b[0m\u001b[1;33m]\u001b[0m    \u001b[1;31m#slicing not allowed in set\u001b[0m\u001b[1;33m\u001b[0m\u001b[1;33m\u001b[0m\u001b[0m\n\u001b[0m",
      "\u001b[1;31mTypeError\u001b[0m: 'set' object is not subscriptable"
     ]
    }
   ],
   "source": [
    "C[:3]    #slicing not allowed in set"
   ]
  },
  {
   "cell_type": "code",
   "execution_count": 28,
   "id": "a8c2ecae",
   "metadata": {},
   "outputs": [
    {
     "data": {
      "text/plain": [
       "{1, 2, 3, 5, 856, 'kill', 'supper'}"
      ]
     },
     "execution_count": 28,
     "metadata": {},
     "output_type": "execute_result"
    }
   ],
   "source": [
    "f"
   ]
  },
  {
   "cell_type": "markdown",
   "id": "0c857145",
   "metadata": {},
   "source": [
    "# Dictionary opertations"
   ]
  },
  {
   "cell_type": "code",
   "execution_count": 29,
   "id": "35714f8a",
   "metadata": {},
   "outputs": [],
   "source": [
    "d={1:'lion',2:'tiger',3:'snake',4:'frog'}"
   ]
  },
  {
   "cell_type": "code",
   "execution_count": 30,
   "id": "874f10c0",
   "metadata": {},
   "outputs": [
    {
     "data": {
      "text/plain": [
       "{1: 'lion', 2: 'tiger', 3: 'snake', 4: 'frog'}"
      ]
     },
     "execution_count": 30,
     "metadata": {},
     "output_type": "execute_result"
    }
   ],
   "source": [
    "d"
   ]
  },
  {
   "cell_type": "code",
   "execution_count": 31,
   "id": "e71cf23c",
   "metadata": {},
   "outputs": [
    {
     "data": {
      "text/plain": [
       "dict_keys([1, 2, 3, 4])"
      ]
     },
     "execution_count": 31,
     "metadata": {},
     "output_type": "execute_result"
    }
   ],
   "source": [
    "d.keys()"
   ]
  },
  {
   "cell_type": "code",
   "execution_count": 32,
   "id": "65167e1e",
   "metadata": {},
   "outputs": [
    {
     "data": {
      "text/plain": [
       "dict_values(['lion', 'tiger', 'snake', 'frog'])"
      ]
     },
     "execution_count": 32,
     "metadata": {},
     "output_type": "execute_result"
    }
   ],
   "source": [
    "d.values()"
   ]
  },
  {
   "cell_type": "code",
   "execution_count": 33,
   "id": "1a34737c",
   "metadata": {},
   "outputs": [
    {
     "data": {
      "text/plain": [
       "dict_items([(1, 'lion'), (2, 'tiger'), (3, 'snake'), (4, 'frog')])"
      ]
     },
     "execution_count": 33,
     "metadata": {},
     "output_type": "execute_result"
    }
   ],
   "source": [
    "d.items()"
   ]
  },
  {
   "cell_type": "code",
   "execution_count": 34,
   "id": "7329daaa",
   "metadata": {},
   "outputs": [],
   "source": [
    "d[5]='fish'"
   ]
  },
  {
   "cell_type": "code",
   "execution_count": 35,
   "id": "e5a2a786",
   "metadata": {},
   "outputs": [
    {
     "data": {
      "text/plain": [
       "{1: 'lion', 2: 'tiger', 3: 'snake', 4: 'frog', 5: 'fish'}"
      ]
     },
     "execution_count": 35,
     "metadata": {},
     "output_type": "execute_result"
    }
   ],
   "source": [
    "d"
   ]
  },
  {
   "cell_type": "code",
   "execution_count": 36,
   "id": "c30ad0f9",
   "metadata": {},
   "outputs": [],
   "source": [
    "d[5]='bear'"
   ]
  },
  {
   "cell_type": "code",
   "execution_count": 37,
   "id": "074c84b4",
   "metadata": {},
   "outputs": [
    {
     "data": {
      "text/plain": [
       "{1: 'lion', 2: 'tiger', 3: 'snake', 4: 'frog', 5: 'bear'}"
      ]
     },
     "execution_count": 37,
     "metadata": {},
     "output_type": "execute_result"
    }
   ],
   "source": [
    "d"
   ]
  },
  {
   "cell_type": "code",
   "execution_count": null,
   "id": "ae8587ba",
   "metadata": {},
   "outputs": [],
   "source": []
  },
  {
   "cell_type": "code",
   "execution_count": null,
   "id": "c28652ff",
   "metadata": {},
   "outputs": [],
   "source": []
  },
  {
   "cell_type": "code",
   "execution_count": null,
   "id": "57b4590f",
   "metadata": {},
   "outputs": [],
   "source": []
  },
  {
   "cell_type": "markdown",
   "id": "ecb1153e",
   "metadata": {},
   "source": [
    "# conditional statement"
   ]
  },
  {
   "cell_type": "code",
   "execution_count": 38,
   "id": "a206109c",
   "metadata": {},
   "outputs": [
    {
     "name": "stdout",
     "output_type": "stream",
     "text": [
      "Enter the desired number: 56\n",
      "your desired number is divisible by 2.\n"
     ]
    }
   ],
   "source": [
    "user_inpt= int(input(\"Enter the desired number: \"))\n",
    "if user_inpt%2==0:\n",
    "    print(\"your desired number is divisible by 2.\")\n",
    "else:\n",
    "    print(\"not divisible.\")  #Activity 1"
   ]
  },
  {
   "cell_type": "code",
   "execution_count": 39,
   "id": "93a321df",
   "metadata": {},
   "outputs": [
    {
     "name": "stdout",
     "output_type": "stream",
     "text": [
      "Enter the desired number: 48\n",
      "Enter the second desired number: 265\n"
     ]
    }
   ],
   "source": [
    "_inpt3= int(input(\"Enter the desired number: \"))\n",
    "_inpt4= int(input(\"Enter the second desired number: \"))\n",
    "if _inpt3%_inpt4==0:\n",
    "    print(\"your desired number is divisible by inpt2.\")"
   ]
  },
  {
   "cell_type": "code",
   "execution_count": 40,
   "id": "b466b798",
   "metadata": {},
   "outputs": [
    {
     "name": "stdout",
     "output_type": "stream",
     "text": [
      "Enter the desired number: 78\n",
      "Enter the second desired number: 458\n",
      "not divisible.\n"
     ]
    }
   ],
   "source": [
    "_inpt3= int(input(\"Enter the desired number: \"))\n",
    "_inpt4= int(input(\"Enter the second desired number: \"))\n",
    "if _inpt3%_inpt4==0:\n",
    "    print(\"your desired number is divisible by 2.\")\n",
    "else:\n",
    "    print(\"not divisible.\")"
   ]
  },
  {
   "cell_type": "code",
   "execution_count": 41,
   "id": "b177d39b",
   "metadata": {},
   "outputs": [
    {
     "name": "stdout",
     "output_type": "stream",
     "text": [
      "Enter the number: 7448\n",
      "The given number is positive.\n"
     ]
    }
   ],
   "source": [
    "user=int(input(\"Enter the number: \"))\n",
    "if user>0:\n",
    "    print(\"The given number is positive.\")\n",
    "else:\n",
    "    print(\"The given number is negative.\")  #Activity 3\n"
   ]
  },
  {
   "cell_type": "code",
   "execution_count": 42,
   "id": "11016709",
   "metadata": {},
   "outputs": [
    {
     "name": "stdout",
     "output_type": "stream",
     "text": [
      "Enter the number: 84452\n",
      "The given number is positive.\n"
     ]
    }
   ],
   "source": [
    "ip=int(input(\"Enter the number: \"))\n",
    "if ip<0:\n",
    "    print(\"The given number is negative.\")\n",
    "elif ip==0:\n",
    "    print(\"The given number is neutral.\")\n",
    "else:\n",
    "    print(\"The given number is positive.\")"
   ]
  },
  {
   "cell_type": "markdown",
   "id": "297607f4",
   "metadata": {},
   "source": [
    "# loops in python"
   ]
  },
  {
   "cell_type": "code",
   "execution_count": 43,
   "id": "065e5295",
   "metadata": {},
   "outputs": [],
   "source": [
    "n=(1,2,3,4,5,6,'the','pvn',7,8,9,10)\n",
    "ai=('pvn','adhi','kalai','five')"
   ]
  },
  {
   "cell_type": "code",
   "execution_count": 44,
   "id": "de39cbe5",
   "metadata": {},
   "outputs": [
    {
     "name": "stdout",
     "output_type": "stream",
     "text": [
      "1\n",
      "2\n",
      "3\n",
      "4\n",
      "5\n",
      "6\n",
      "the\n",
      "pvn\n",
      "7\n",
      "8\n",
      "9\n",
      "10\n"
     ]
    }
   ],
   "source": [
    "for i in n:\n",
    "    print(i)"
   ]
  },
  {
   "cell_type": "code",
   "execution_count": 45,
   "id": "82677d51",
   "metadata": {},
   "outputs": [
    {
     "name": "stdout",
     "output_type": "stream",
     "text": [
      "1\n",
      "2\n",
      "3\n",
      "4\n",
      "5\n",
      "6\n",
      "the\n",
      "pvn\n",
      "7\n",
      "8\n",
      "9\n",
      "10\n"
     ]
    }
   ],
   "source": [
    "for a in n:\n",
    "    print(a)"
   ]
  },
  {
   "cell_type": "code",
   "execution_count": 49,
   "id": "92115e44",
   "metadata": {},
   "outputs": [],
   "source": [
    "p=[1,2,3,4,5,6,7,8,9,10]"
   ]
  },
  {
   "cell_type": "code",
   "execution_count": 53,
   "id": "0d6a25ae",
   "metadata": {},
   "outputs": [
    {
     "name": "stdout",
     "output_type": "stream",
     "text": [
      "1 is an Odd Number.\n",
      "2 is an Even Number.\n",
      "3 is an Odd Number.\n",
      "4 is an Even Number.\n",
      "5 is an Odd Number.\n",
      "6 is an Even Number.\n",
      "7 is an Odd Number.\n",
      "8 is an Even Number.\n",
      "9 is an Odd Number.\n",
      "10 is an Even Number.\n"
     ]
    }
   ],
   "source": [
    "for z in p:\n",
    "    if z%2==0:\n",
    "        print(z,\"is an Even Number.\")\n",
    "    else:\n",
    "        print(z,\"is an Odd Number.\")    #loops with conditions"
   ]
  },
  {
   "cell_type": "code",
   "execution_count": 54,
   "id": "7661a37d",
   "metadata": {},
   "outputs": [
    {
     "name": "stdout",
     "output_type": "stream",
     "text": [
      "1 is an Odd Number.\n",
      "2 is an Even Number.\n",
      "3 is an Odd Number.\n",
      "4 is an Even Number.\n",
      "5 is an Odd Number.\n",
      "6 is an Even Number.\n",
      "7 is an Odd Number.\n",
      "8 is an Even Number.\n",
      "9 is an Odd Number.\n",
      "10 is an Even Number.\n"
     ]
    }
   ],
   "source": [
    "for z in p:\n",
    "    if z%2==0:\n",
    "        print(f\"{z} is an Even Number.\")\n",
    "    else:\n",
    "        print(f\"{z} is an Odd Number.\")    #loops with conditions using format print"
   ]
  },
  {
   "cell_type": "code",
   "execution_count": 5,
   "id": "3c63cd41",
   "metadata": {},
   "outputs": [
    {
     "name": "stdout",
     "output_type": "stream",
     "text": [
      "enter a number: 9\n",
      "the sum is 0\n",
      "the sum is 1\n",
      "the sum is 3\n",
      "the sum is 6\n",
      "the sum is 10\n",
      "the sum is 15\n",
      "the sum is 21\n",
      "the sum is 28\n",
      "the sum is 36\n",
      "the sum is 45\n"
     ]
    }
   ],
   "source": [
    "m= input(\"enter a number: \")\n",
    "val=0\n",
    "i=0\n",
    "\n",
    "while i<= int(m):\n",
    "    val += i\n",
    "    i+= 1\n",
    "    print(f\"the sum is {val}\")      #while loops"
   ]
  },
  {
   "cell_type": "code",
   "execution_count": 7,
   "id": "2c2aa90f",
   "metadata": {},
   "outputs": [
    {
     "name": "stdout",
     "output_type": "stream",
     "text": [
      "inside loop\n",
      "inside loop\n",
      "inside loop\n",
      "inside loop\n",
      "inside loop\n",
      "inside loop\n",
      "inside loop\n",
      "inside loop\n",
      "inside loop\n",
      "inside loop\n",
      "inside loop\n",
      "inside loop\n",
      "inside loop\n",
      "inside loop\n",
      "inside loop\n",
      "get out of loop\n"
     ]
    }
   ],
   "source": [
    "counter=0\n",
    "\n",
    "while counter < 15:\n",
    "    print(\"inside loop\")\n",
    "    counter=counter+1\n",
    "else:\n",
    "    print(\"get out of loop\")      #while loop with else statement "
   ]
  },
  {
   "cell_type": "code",
   "execution_count": 11,
   "id": "85364ddd",
   "metadata": {},
   "outputs": [
    {
     "name": "stdout",
     "output_type": "stream",
     "text": [
      "s\n",
      "h\n",
      "r\n",
      "e\n",
      "e\n",
      "j\n",
      "the end\n"
     ]
    }
   ],
   "source": [
    "for val in 'shreejith':\n",
    "    if val =='i':\n",
    "        break\n",
    "    print (val)\n",
    "print (\"the end\")"
   ]
  },
  {
   "cell_type": "markdown",
   "id": "3fcf0638",
   "metadata": {},
   "source": [
    "# function"
   ]
  },
  {
   "cell_type": "code",
   "execution_count": 1,
   "id": "14d72b86",
   "metadata": {},
   "outputs": [],
   "source": [
    "#functon\n",
    "def intro():\n",
    "    print(\"hello my name is pvan\")"
   ]
  },
  {
   "cell_type": "code",
   "execution_count": 2,
   "id": "5bf6e2f8",
   "metadata": {},
   "outputs": [
    {
     "name": "stdout",
     "output_type": "stream",
     "text": [
      "hello my name is pvan\n"
     ]
    }
   ],
   "source": [
    "intro()"
   ]
  },
  {
   "cell_type": "code",
   "execution_count": 4,
   "id": "7c92e8dd",
   "metadata": {},
   "outputs": [],
   "source": [
    "#function\n",
    "def sumval(a,b):\n",
    "    return a+b\n"
   ]
  },
  {
   "cell_type": "code",
   "execution_count": 7,
   "id": "6119be2e",
   "metadata": {},
   "outputs": [
    {
     "name": "stdout",
     "output_type": "stream",
     "text": [
      "Enter the first number: 8\n",
      "Enter the second number: 9\n",
      "The sum is 17\n"
     ]
    }
   ],
   "source": [
    "#main program\n",
    "num1= int(input('Enter the first number: '))\n",
    "num2= int(input('Enter the second number: '))\n",
    "add = sumval(num1,num2)\n",
    "print(f\"The sum is {add}\")"
   ]
  },
  {
   "cell_type": "code",
   "execution_count": null,
   "id": "4bf6f79a",
   "metadata": {},
   "outputs": [],
   "source": []
  }
 ],
 "metadata": {
  "kernelspec": {
   "display_name": "Python 3 (ipykernel)",
   "language": "python",
   "name": "python3"
  },
  "language_info": {
   "codemirror_mode": {
    "name": "ipython",
    "version": 3
   },
   "file_extension": ".py",
   "mimetype": "text/x-python",
   "name": "python",
   "nbconvert_exporter": "python",
   "pygments_lexer": "ipython3",
   "version": "3.9.13"
  }
 },
 "nbformat": 4,
 "nbformat_minor": 5
}
