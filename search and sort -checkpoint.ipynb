{
 "cells": [
  {
   "cell_type": "code",
   "execution_count": 1,
   "id": "dd273f15",
   "metadata": {},
   "outputs": [],
   "source": [
    "data=[16,21,15,7,8,24,9,1,30,10,25,13,26,11,2,5,20,28,18,3]"
   ]
  },
  {
   "cell_type": "code",
   "execution_count": 2,
   "id": "ca7eb199",
   "metadata": {},
   "outputs": [],
   "source": [
    "data.sort()"
   ]
  },
  {
   "cell_type": "code",
   "execution_count": 3,
   "id": "dd520224",
   "metadata": {},
   "outputs": [
    {
     "data": {
      "text/plain": [
       "20"
      ]
     },
     "execution_count": 3,
     "metadata": {},
     "output_type": "execute_result"
    }
   ],
   "source": [
    "len(data)"
   ]
  },
  {
   "cell_type": "code",
   "execution_count": 4,
   "id": "1c16c1b4",
   "metadata": {},
   "outputs": [
    {
     "name": "stdout",
     "output_type": "stream",
     "text": [
      "Enter the desired search element: 21\n"
     ]
    }
   ],
   "source": [
    "search_element=int(input(\"Enter the desired search element: \")) "
   ]
  },
  {
   "cell_type": "code",
   "execution_count": null,
   "id": "dce83a63",
   "metadata": {},
   "outputs": [],
   "source": [
    "def binary_search (data,search_element)\n",
    "low=0\n",
    "high=len(data)-1\n",
    "\n",
    "while low<=high:\n",
    "mid=low+high//2\n",
    "    if data[mid]==search_element:\n",
    "        print(f\"the searching element {search_element} is found in the index value {mid} in the given dataset.}\")\n",
    "        break\n",
    "    elif data[mid]>high:\n",
    "        high=low-1\n",
    "    else:\n",
    "        low=high+1\n",
    "if \n",
    "     "
   ]
  },
  {
   "cell_type": "code",
   "execution_count": 11,
   "id": "5e20369a",
   "metadata": {},
   "outputs": [
    {
     "name": "stdout",
     "output_type": "stream",
     "text": [
      "before sorting the array in A.\n",
      "[78, 58, 69, 12, 45, 75, 21, 54, 85, -95, -96, -78, 100, 254, 852, -10, 48, -852]\n",
      "after before sorting the array in A.\n",
      "[-852, -96, -95, -78, -10, 12, 21, 45, 48, 54, 58, 69, 75, 78, 85, 100, 254, 852]\n"
     ]
    }
   ],
   "source": [
    "data=[78,58,69,12,45,75,21,54,85,-95,-96,-78,100,254,852,-10,48,-852]\n",
    "\n",
    "def bubble_sort (data):\n",
    "    #i is for the count i.e, length of data\n",
    "    for i in range(len(data)):             \n",
    "        #j is for the index of the data \n",
    "        for j in range(0,len(data)-i-1):   \n",
    "            #compare the element\n",
    "            if data[j]>data[j+1]:\n",
    "                #swapping \n",
    "                temp=data[j]\n",
    "                data[j]=data[j+1]\n",
    "                data[j+1]=temp\n",
    "                \n",
    "print(\"before sorting the array in A.\")\n",
    "print(data)\n",
    "\n",
    "bubble_sort(data)\n",
    "print(\"after before sorting the array in A.\")\n",
    "print(data)\n",
    "                "
   ]
  },
  {
   "cell_type": "code",
   "execution_count": null,
   "id": "49ccf88b",
   "metadata": {},
   "outputs": [],
   "source": []
  }
 ],
 "metadata": {
  "kernelspec": {
   "display_name": "Python 3 (ipykernel)",
   "language": "python",
   "name": "python3"
  },
  "language_info": {
   "codemirror_mode": {
    "name": "ipython",
    "version": 3
   },
   "file_extension": ".py",
   "mimetype": "text/x-python",
   "name": "python",
   "nbconvert_exporter": "python",
   "pygments_lexer": "ipython3",
   "version": "3.9.13"
  }
 },
 "nbformat": 4,
 "nbformat_minor": 5
}
